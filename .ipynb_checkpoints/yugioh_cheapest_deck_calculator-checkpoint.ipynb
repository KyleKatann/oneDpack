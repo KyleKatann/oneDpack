{
 "cells": [
  {
   "cell_type": "code",
   "execution_count": 2,
   "metadata": {},
   "outputs": [
    {
     "name": "stdout",
     "output_type": "stream",
     "text": [
      "Using license file C:\\Users\\kyle\\gurobi.lic\n",
      "Academic license - for non-commercial use only\n"
     ]
    },
    {
     "data": {
      "text/plain": [
       "[[10, 10, 10, 10, 10, 10, 10, 10, 10, 10],\n",
       " [10, 10, 10, 10, 10, 10, 10, 10, 10, 10],\n",
       " [10, 10, 10, 10, 10, 10, 10, 10, 10, 10],\n",
       " [10, 10, 10, 10, 10, 10, 10, 10, 10, 10],\n",
       " [10, 10, 10, 10, 10, 10, 10, 10, 10, 10],\n",
       " [10, 10, 10, 10, 10, 10, 10, 10, 10, 10],\n",
       " [10, 10, 10, 10, 10, 10, 10, 10, 10, 10],\n",
       " [10, 10, 10, 10, 10, 10, 10, 10, 10, 10],\n",
       " [10, 10, 10, 10, 10, 10, 10, 10, 10, 10],\n",
       " [10, 10, 10, 10, 10, 10, 10, 10, 10, 10]]"
      ]
     },
     "execution_count": 2,
     "metadata": {},
     "output_type": "execute_result"
    }
   ],
   "source": [
    "from oneDpack import*\n",
    "\n",
    "packing(100,[10 for i in range(100)])"
   ]
  }
 ],
 "metadata": {
  "kernelspec": {
   "display_name": "Python 3",
   "language": "python",
   "name": "python3"
  },
  "language_info": {
   "codemirror_mode": {
    "name": "ipython",
    "version": 3
   },
   "file_extension": ".py",
   "mimetype": "text/x-python",
   "name": "python",
   "nbconvert_exporter": "python",
   "pygments_lexer": "ipython3",
   "version": "3.7.4"
  }
 },
 "nbformat": 4,
 "nbformat_minor": 2
}
